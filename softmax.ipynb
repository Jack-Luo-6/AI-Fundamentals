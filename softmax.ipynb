{
 "cells": [
  {
   "cell_type": "code",
   "execution_count": null,
   "metadata": {},
   "outputs": [],
   "source": [
    "#standards & hyperparameters\n",
    "import random\n",
    "import numpy as np\n",
    "import math\n",
    "\n",
    "cat=[1,1,1,1,0,0,0,0]\n",
    "dog=[0,0,0,0,1,1,1,1]\n",
    "\n",
    "L=2\n",
    "I=8\n",
    "O=2\n",
    "alpha=1\n",
    "error=0.0001"
   ]
  },
  {
   "cell_type": "code",
   "execution_count": null,
   "metadata": {},
   "outputs": [],
   "source": [
    "#training set\n",
    "input=np.array([1,1,1,1,0,0,0,0])\n",
    "cat=1\n",
    "dog=0"
   ]
  },
  {
   "cell_type": "code",
   "execution_count": null,
   "metadata": {},
   "outputs": [],
   "source": [
    "def ran_num():\n",
    "    return random.randint(-1,1)\n",
    "\n",
    "w1=np.array([[ran_num(),ran_num(),ran_num(),ran_num(),ran_num(),ran_num(),ran_num(),ran_num()],\n",
    "              [ran_num(),ran_num(),ran_num(),ran_num(),ran_num(),ran_num(),ran_num(),ran_num()],\n",
    "              [ran_num(),ran_num(),ran_num(),ran_num(),ran_num(),ran_num(),ran_num(),ran_num()],\n",
    "              [ran_num(),ran_num(),ran_num(),ran_num(),ran_num(),ran_num(),ran_num(),ran_num()]])\n",
    "b1=np.array([ran_num(),ran_num(),ran_num(),ran_num()])\n",
    "w2=np.array([[ran_num(),ran_num(),ran_num(),ran_num()],\n",
    "              [ran_num(),ran_num(),ran_num(),ran_num()]])\n",
    "b2=np.array([ran_num(),ran_num()])\n",
    "\n",
    "def tanh(x):\n",
    "    return (math.exp(x)-math.exp(-x))/(math.exp(x)+math.exp(-x))"
   ]
  },
  {
   "cell_type": "code",
   "execution_count": null,
   "metadata": {},
   "outputs": [],
   "source": [
    "def forward_prop(input):\n",
    "    s1=np.matmul(input,np.transpose(w1))+b1\n",
    "    for i in range(len(s1)):\n",
    "        s1[i]=tanh(s1[i])\n",
    "    s2=np.matmul(s1,np.transpose(w2))+b2\n",
    "    for j in range(len(s2)):\n",
    "        s2[j]=tanh(s2[j])\n",
    "    pcat=math.exp(s2[0])/(math.exp(s2[0])+math.exp(s2[1]))\n",
    "    pdog=math.exp(s2[1])/(math.exp(s2[0])+math.exp(s2[1]))\n",
    "    return pcat,pdog"
   ]
  },
  {
   "cell_type": "code",
   "execution_count": null,
   "metadata": {},
   "outputs": [
    {
     "ename": "",
     "evalue": "",
     "output_type": "error",
     "traceback": [
      "\u001b[1;31mThe Kernel crashed while executing code in the the current cell or a previous cell. Please review the code in the cell(s) to identify a possible cause of the failure. Click <a href='https://aka.ms/vscodeJupyterKernelCrash'>here</a> for more info. View Jupyter <a href='command:jupyter.viewOutput'>log</a> for further details."
     ]
    }
   ],
   "source": [
    "def cost_func_cat(cat,dog,pcat,pdog):\n",
    "    cost=-(cat*math.log(pcat)+dog*math.log(pdog))/2\n",
    "    cost_grad=np.array([pcat-cat,pdog-dog])\n",
    "    return cost,cost_grad"
   ]
  },
  {
   "cell_type": "code",
   "execution_count": null,
   "metadata": {},
   "outputs": [],
   "source": [
    "pcat=forward_prop(input)[0]\n",
    "pdog=forward_prop(input)[1]\n",
    "cost=cost_func_cat(cat,dog,pcat,pdog)[0]\n",
    "cost_grad=cost_func_cat(cat,dog,pcat,pdog)[1]\n",
    "while cost>error:\n",
    "    for m in range(len(cost_grad)):\n",
    "        for n in range(len(w2[m])):\n",
    "            w2[m][n]=w2[m][n]-alpha*cost_grad[m]*w2[m][n]\n",
    "            print(w2)\n",
    "            w1[m][n]=w1[m][n]-alpha*cost_grad[m]*w2[m][n]*w1[m][n]\n",
    "if cost<=error:\n",
    "    print(pcat,pdog)"
   ]
  }
 ],
 "metadata": {
  "kernelspec": {
   "display_name": "Python 3",
   "language": "python",
   "name": "python3"
  },
  "language_info": {
   "codemirror_mode": {
    "name": "ipython",
    "version": 3
   },
   "file_extension": ".py",
   "mimetype": "text/x-python",
   "name": "python",
   "nbconvert_exporter": "python",
   "pygments_lexer": "ipython3",
   "version": "3.10.2"
  },
  "orig_nbformat": 4
 },
 "nbformat": 4,
 "nbformat_minor": 2
}
