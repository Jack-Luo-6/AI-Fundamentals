{
 "cells": [
  {
   "cell_type": "code",
   "execution_count": 2,
   "metadata": {},
   "outputs": [],
   "source": [
    "import math\n",
    "import random"
   ]
  },
  {
   "cell_type": "code",
   "execution_count": 3,
   "metadata": {},
   "outputs": [],
   "source": [
    "def random_number():\n",
    "    return random.randint(-1,1)/1.0"
   ]
  },
  {
   "cell_type": "code",
   "execution_count": 4,
   "metadata": {},
   "outputs": [],
   "source": [
    "w=[[],[[random_number(),random_number(),random_number(),random_number(),random_number()],[random_number(),random_number(),random_number(),random_number(),random_number()],[random_number(),random_number(),random_number(),random_number(),random_number()],[random_number(),random_number(),random_number(),random_number(),random_number()]],\n",
    "[[random_number(),random_number(),random_number(),random_number()],[random_number(),random_number(),random_number(),random_number()],[random_number(),random_number(),random_number(),random_number()]],\n",
    "[[random_number(),random_number(),random_number()],[random_number(),random_number(),random_number()]],\n",
    "[[random_number(),random_number()]]]\n",
    "b=[[],[random_number(),random_number(),random_number(),random_number(),random_number()],\n",
    "[random_number(),random_number(),random_number(),random_number()],\n",
    "[random_number(),random_number(),random_number()],\n",
    "[random_number(),random_number()]]\n",
    "\n",
    "test={\n",
    "    'input':[1,2,3,4,5],\n",
    "    'expected':100\n",
    "}\n",
    "\n",
    "x=[[],[test['input']],[],[],[]]\n",
    "y=[[],[],[],[],[]]"
   ]
  },
  {
   "cell_type": "code",
   "execution_count": 5,
   "metadata": {},
   "outputs": [],
   "source": [
    "def sigmoid(x):\n",
    "    return 1.0 / (1.0 + math.exp(-x))"
   ]
  },
  {
   "cell_type": "code",
   "execution_count": 6,
   "metadata": {},
   "outputs": [],
   "source": [
    "count=1 #w purple"
   ]
  },
  {
   "cell_type": "code",
   "execution_count": 7,
   "metadata": {},
   "outputs": [],
   "source": [
    "def node_result(i,j,count,list):\n",
    "    i=0 #input\n",
    "    j=0 #w number\n",
    "    l=0 #w blue\n",
    "    result=0\n",
    "    if count<=len(x)-1:\n",
    "        while l<=len(w[count])-1:\n",
    "            if j>len(w[count][l])-1:\n",
    "                list[count].append(sigmoid(result+b[count][l]))\n",
    "                l=l+1\n",
    "                i=0\n",
    "                j=0\n",
    "                result=0\n",
    "            if l>len(w[count])-1:\n",
    "                l=0\n",
    "                return list\n",
    "            while j<=len(w[count][l])-1:\n",
    "                result=result+w[count][l][j]*x[count][0][i]\n",
    "                i=i+1\n",
    "                j=j+1\n",
    "    elif count>len(x)-1:\n",
    "        return list"
   ]
  },
  {
   "cell_type": "code",
   "execution_count": 8,
   "metadata": {},
   "outputs": [
    {
     "name": "stdout",
     "output_type": "stream",
     "text": [
      "[0.5]\n"
     ]
    },
    {
     "ename": "",
     "evalue": "",
     "output_type": "error",
     "traceback": [
      "\u001b[1;31mThe Kernel crashed while executing code in the the current cell or a previous cell. Please review the code in the cell(s) to identify a possible cause of the failure. Click <a href='https://aka.ms/vscodeJupyterKernelCrash'>here</a> for more info. View Jupyter <a href='command:jupyter.viewOutput'>log</a> for further details."
     ]
    }
   ],
   "source": [
    "while count<=len(x)-1:\n",
    "    y=node_result(0,0,count,y)\n",
    "    if count==len(x)-1:\n",
    "        print(y[count])\n",
    "        count=count+1\n",
    "    else: \n",
    "        x[count+1].append(y[count])\n",
    "        count=count+1\n",
    "\n",
    "if count>=len(x)-1:\n",
    "    exit()"
   ]
  }
 ],
 "metadata": {
  "kernelspec": {
   "display_name": "Python 3",
   "language": "python",
   "name": "python3"
  },
  "language_info": {
   "codemirror_mode": {
    "name": "ipython",
    "version": 3
   },
   "file_extension": ".py",
   "mimetype": "text/x-python",
   "name": "python",
   "nbconvert_exporter": "python",
   "pygments_lexer": "ipython3",
   "version": "3.10.2"
  },
  "orig_nbformat": 4
 },
 "nbformat": 4,
 "nbformat_minor": 2
}
